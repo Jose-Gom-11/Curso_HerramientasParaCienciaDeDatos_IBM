{
 "cells": [
  {
   "cell_type": "markdown",
   "id": "aa79242d-bd54-425f-97f0-ced45b3a3c2d",
   "metadata": {},
   "source": [
    "# Data Science Tools and Ecosystem"
   ]
  },
  {
   "cell_type": "markdown",
   "id": "6d8d9c91-585c-412e-8e14-90d033f5f022",
   "metadata": {},
   "source": [
    "### In this notebook, Data Science Tools and Ecosystem are summarized.\n",
    "**Objectives:**\n",
    "* List popular languages for data science\n",
    "* Commonly used libraries used by Data Scientist\n",
    "* Data science tootls table\n",
    "* Examples of arithmetic expressions"
   ]
  },
  {
   "cell_type": "markdown",
   "id": "afa13f47-3828-47de-bf98-cc1fa412b20e",
   "metadata": {},
   "source": [
    "#### Some of the most popular languages that data Scientist use are:\n",
    "1. R.\n",
    "2. Python\n",
    "3. SQL"
   ]
  },
  {
   "cell_type": "markdown",
   "id": "a5bb0134-c6fa-4160-9f02-3b784b25ba68",
   "metadata": {},
   "source": [
    "#### Some of the commonly used libraries used by Data Scientists include:\n",
    "\n",
    "1. pandas \n",
    "2. ggplot\n",
    "3. matplotlib\n",
    "4. numpy"
   ]
  },
  {
   "cell_type": "markdown",
   "id": "88642ffc-8c65-4da3-b63d-1e75102aaf3f",
   "metadata": {},
   "source": [
    "|Data Science Tools|\n",
    "|------------------|\n",
    "|Rstudio|\n",
    "|ApacheSpark|\n",
    "|TensorFlow|"
   ]
  },
  {
   "cell_type": "markdown",
   "id": "f37951e2-7352-4a23-8305-84cc49e279f2",
   "metadata": {},
   "source": [
    "### Below are a few examples of evaluating arithmetic expressions in Python\n",
    "\n"
   ]
  },
  {
   "cell_type": "code",
   "execution_count": 2,
   "id": "b9b20f3f-21bd-41d4-b37c-c7d4410e1d24",
   "metadata": {},
   "outputs": [
    {
     "data": {
      "text/plain": [
       "17"
      ]
     },
     "execution_count": 2,
     "metadata": {},
     "output_type": "execute_result"
    }
   ],
   "source": [
    "##This a simple arithmetic expression to mutiply then add integers\n",
    "(3*4)+5"
   ]
  },
  {
   "cell_type": "code",
   "execution_count": 4,
   "id": "68e547b6-ef7f-4a62-b1da-c208781ecbf6",
   "metadata": {},
   "outputs": [
    {
     "data": {
      "text/plain": [
       "3.3333333333333335"
      ]
     },
     "execution_count": 4,
     "metadata": {},
     "output_type": "execute_result"
    }
   ],
   "source": [
    "##This will convert 200 minutes to hours by diving by 60\n",
    "minutes = 200;\n",
    "minutes/60"
   ]
  },
  {
   "cell_type": "markdown",
   "id": "eb414f20-751f-46ce-b881-d27545944bfc",
   "metadata": {},
   "source": [
    "## Author\n",
    "José Abraham Gómez Torres"
   ]
  },
  {
   "cell_type": "code",
   "execution_count": null,
   "id": "9fd86b39-e828-4738-a541-f12ffe42ac98",
   "metadata": {},
   "outputs": [],
   "source": []
  }
 ],
 "metadata": {
  "kernelspec": {
   "display_name": "Python 3 (ipykernel)",
   "language": "python",
   "name": "python3"
  },
  "language_info": {
   "codemirror_mode": {
    "name": "ipython",
    "version": 3
   },
   "file_extension": ".py",
   "mimetype": "text/x-python",
   "name": "python",
   "nbconvert_exporter": "python",
   "pygments_lexer": "ipython3",
   "version": "3.9.7"
  }
 },
 "nbformat": 4,
 "nbformat_minor": 5
}
